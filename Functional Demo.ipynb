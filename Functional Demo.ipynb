{
 "cells": [
  {
   "attachments": {},
   "cell_type": "markdown",
   "metadata": {},
   "source": [
    "# Functionality Display —— gplearn 3d mod"
   ]
  },
  {
   "attachments": {},
   "cell_type": "markdown",
   "metadata": {},
   "source": [
    "## Load Data and Packages"
   ]
  },
  {
   "cell_type": "code",
   "execution_count": 1,
   "metadata": {
    "tags": []
   },
   "outputs": [],
   "source": [
    "import warnings\n",
    "import numpy as np\n",
    "import pandas as pd\n",
    "import gplearn.genetic as genetic\n",
    "\n",
    "np.random.seed(10)\n",
    "pd.set_option('display.max_columns', None)\n",
    "pd.set_option('expand_frame_repr', True)\n",
    "pd.set_option('display.unicode.ambiguous_as_wide', True)\n",
    "warnings.filterwarnings('ignore')\n"
   ]
  },
  {
   "cell_type": "code",
   "execution_count": 2,
   "metadata": {
    "tags": []
   },
   "outputs": [
    {
     "name": "stdout",
     "output_type": "stream",
     "text": [
      "(728, 4984)\n"
     ]
    }
   ],
   "source": [
    "Y = np.load(\"./data/Y.npy\")\n",
    "print(Y.shape)"
   ]
  },
  {
   "cell_type": "code",
   "execution_count": 3,
   "metadata": {
    "tags": []
   },
   "outputs": [
    {
     "name": "stdout",
     "output_type": "stream",
     "text": [
      "(728, 6, 4984)\n"
     ]
    }
   ],
   "source": [
    "X = np.load(\"./data/X.npy\")\n",
    "print(X.shape)"
   ]
  },
  {
   "cell_type": "code",
   "execution_count": 4,
   "metadata": {},
   "outputs": [],
   "source": [
    "feature_names = [\"open\", \"close\", \"high\", \"low\",\"vwap\",\"volume\"]"
   ]
  },
  {
   "attachments": {},
   "cell_type": "markdown",
   "metadata": {},
   "source": [
    "## Set Function Sets"
   ]
  },
  {
   "cell_type": "code",
   "execution_count": 5,
   "metadata": {
    "tags": []
   },
   "outputs": [],
   "source": [
    "max_samples=0.8\n",
    "sample_weight = np.ones(X.shape[0])\n",
    "num_div = int(X.shape[0] * max_samples)\n",
    "sample_weight[num_div:] = 0"
   ]
  },
  {
   "cell_type": "code",
   "execution_count": 6,
   "metadata": {
    "collapsed": false,
    "jupyter": {
     "outputs_hidden": false
    },
    "tags": []
   },
   "outputs": [],
   "source": [
    "function_set_all = list(genetic._all_func_dictionary.keys())\n",
    "remove_list = ['tan','sin','cos','neg']\n",
    "function_set = [item for item in function_set_all if item not in remove_list]"
   ]
  },
  {
   "attachments": {},
   "cell_type": "markdown",
   "metadata": {},
   "source": [
    "## Train GP Model"
   ]
  },
  {
   "cell_type": "code",
   "execution_count": 7,
   "metadata": {},
   "outputs": [
    {
     "data": {
      "text/plain": [
       "['rank_ic', 'rank_icir', 'quantile_max', 'quantile_mono']"
      ]
     },
     "execution_count": 7,
     "metadata": {},
     "output_type": "execute_result"
    }
   ],
   "source": [
    "# list all fitness metrics\n",
    "list(genetic._extra_fitness_map.keys())"
   ]
  },
  {
   "cell_type": "code",
   "execution_count": 22,
   "metadata": {
    "collapsed": false,
    "jupyter": {
     "outputs_hidden": false
    },
    "tags": []
   },
   "outputs": [],
   "source": [
    "gp_sample = genetic.SymbolicTransformer(generations=2,\n",
    "                                        population_size=20,\n",
    "                                        tournament_size=20,\n",
    "                                        init_depth=(1,4),\n",
    "                                        hall_of_fame=10,\n",
    "                                        n_components=10,\n",
    "                                        function_set=function_set,\n",
    "                                        metric=\"rank_ic\",\n",
    "                                        const_range=None,\n",
    "                                        p_crossover=0.4,\n",
    "                                        p_hoist_mutation=0.001,\n",
    "                                        p_subtree_mutation=0.01,\n",
    "                                        p_point_mutation=0.01,\n",
    "                                        p_point_replace=0.4,\n",
    "                                        parsimony_coefficient=\"auto\",\n",
    "                                        feature_names=feature_names,\n",
    "                                        max_samples=max_samples, verbose=1,\n",
    "                                        random_state=0, n_jobs=-3)"
   ]
  },
  {
   "cell_type": "code",
   "execution_count": 16,
   "metadata": {},
   "outputs": [
    {
     "name": "stdout",
     "output_type": "stream",
     "text": [
      "(728, 6, 4984) (728, 4984)\n"
     ]
    }
   ],
   "source": [
    "print(X.shape, Y.shape)"
   ]
  },
  {
   "cell_type": "code",
   "execution_count": 23,
   "metadata": {
    "collapsed": false,
    "jupyter": {
     "outputs_hidden": false
    },
    "tags": []
   },
   "outputs": [
    {
     "name": "stdout",
     "output_type": "stream",
     "text": [
      "    |   Population Average    |             Best Individual              |\n",
      "---- ------------------------- ------------------------------------------ ----------\n",
      " Gen   Length          Fitness   Length          Fitness      OOB Fitness  Time Left\n",
      "正在生成表达式0/1 0.00% | 表达式生成完成\n",
      "正在生成表达式0/1 0.00% | 表达式生成完成\n",
      "正在生成表达式0/1 0.00% | 表达式生成完成\n",
      "正在生成表达式0/1 0.00% | 表达式生成完成\n",
      "正在生成表达式0/1 0.00% | 表达式生成完成\n",
      "正在生成表达式0/1 0.00% | 表达式生成完成\n",
      "正在生成表达式0/1 0.00% | 表达式生成完成\n",
      "正在生成表达式0/1 0.00% | 表达式生成完成\n",
      "正在生成表达式0/1 0.00% | 表达式生成完成\n",
      "正在生成表达式0/1 0.00% | 表达式生成完成\n",
      "正在生成表达式0/1 0.00% | 表达式生成完成\n",
      "正在生成表达式0/1 0.00% | 表达式生成完成\n",
      "正在生成表达式0/1 0.00% | 表达式生成完成\n",
      "正在生成表达式0/1 0.00% | 表达式生成完成\n",
      "正在生成表达式0/1 0.00% | 表达式生成完成\n",
      "正在生成表达式0/1 0.00% | 表达式生成完成\n",
      "正在生成表达式0/1 0.00% | 表达式生成完成\n",
      "正在生成表达式0/1 0.00% | 表达式生成完成\n",
      "正在生成表达式0/1 0.00% | 表达式生成完成\n",
      "正在生成表达式0/1 0.00% | 表达式生成完成\n",
      "   0     4.75        0.0091857        6        0.0338718        0.0401776     14.90s\n",
      "正在生成表达式0/1 0.00% | 表达式生成完成\n",
      "正在生成表达式0/1 0.00% | 表达式生成完成\n",
      "正在生成表达式0/1 0.00% | 表达式生成完成\n",
      "正在生成表达式0/1 0.00% | 表达式生成完成\n",
      "正在生成表达式0/1 0.00% | 表达式生成完成\n",
      "正在生成表达式0/1 0.00% | 表达式生成完成\n",
      "正在生成表达式0/1 0.00% | 表达式生成完成\n",
      "正在生成表达式0/1 0.00% | 表达式生成完成\n",
      "正在生成表达式0/1 0.00% | 表达式生成完成\n",
      "正在生成表达式0/1 0.00% | 表达式生成完成\n",
      "正在生成表达式0/1 0.00% | 表达式生成完成\n",
      "正在生成表达式0/1 0.00% | 表达式生成完成\n",
      "正在生成表达式0/1 0.00% | 表达式生成完成\n",
      "正在生成表达式0/1 0.00% | 表达式生成完成\n",
      "正在生成表达式0/1 0.00% | 表达式生成完成\n",
      "正在生成表达式0/1 0.00% | 表达式生成完成\n",
      "正在生成表达式0/1 0.00% | 表达式生成完成\n",
      "正在生成表达式0/1 0.00% | 表达式生成完成\n",
      "正在生成表达式0/1 0.00% | 表达式生成完成\n",
      "正在生成表达式0/1 0.00% | 表达式生成完成\n",
      "   1     5.20        0.0241523        6        0.0338718        0.0401776      0.00s\n"
     ]
    },
    {
     "data": {
      "text/html": [
       "<style>#sk-container-id-4 {color: black;}#sk-container-id-4 pre{padding: 0;}#sk-container-id-4 div.sk-toggleable {background-color: white;}#sk-container-id-4 label.sk-toggleable__label {cursor: pointer;display: block;width: 100%;margin-bottom: 0;padding: 0.3em;box-sizing: border-box;text-align: center;}#sk-container-id-4 label.sk-toggleable__label-arrow:before {content: \"▸\";float: left;margin-right: 0.25em;color: #696969;}#sk-container-id-4 label.sk-toggleable__label-arrow:hover:before {color: black;}#sk-container-id-4 div.sk-estimator:hover label.sk-toggleable__label-arrow:before {color: black;}#sk-container-id-4 div.sk-toggleable__content {max-height: 0;max-width: 0;overflow: hidden;text-align: left;background-color: #f0f8ff;}#sk-container-id-4 div.sk-toggleable__content pre {margin: 0.2em;color: black;border-radius: 0.25em;background-color: #f0f8ff;}#sk-container-id-4 input.sk-toggleable__control:checked~div.sk-toggleable__content {max-height: 200px;max-width: 100%;overflow: auto;}#sk-container-id-4 input.sk-toggleable__control:checked~label.sk-toggleable__label-arrow:before {content: \"▾\";}#sk-container-id-4 div.sk-estimator input.sk-toggleable__control:checked~label.sk-toggleable__label {background-color: #d4ebff;}#sk-container-id-4 div.sk-label input.sk-toggleable__control:checked~label.sk-toggleable__label {background-color: #d4ebff;}#sk-container-id-4 input.sk-hidden--visually {border: 0;clip: rect(1px 1px 1px 1px);clip: rect(1px, 1px, 1px, 1px);height: 1px;margin: -1px;overflow: hidden;padding: 0;position: absolute;width: 1px;}#sk-container-id-4 div.sk-estimator {font-family: monospace;background-color: #f0f8ff;border: 1px dotted black;border-radius: 0.25em;box-sizing: border-box;margin-bottom: 0.5em;}#sk-container-id-4 div.sk-estimator:hover {background-color: #d4ebff;}#sk-container-id-4 div.sk-parallel-item::after {content: \"\";width: 100%;border-bottom: 1px solid gray;flex-grow: 1;}#sk-container-id-4 div.sk-label:hover label.sk-toggleable__label {background-color: #d4ebff;}#sk-container-id-4 div.sk-serial::before {content: \"\";position: absolute;border-left: 1px solid gray;box-sizing: border-box;top: 0;bottom: 0;left: 50%;z-index: 0;}#sk-container-id-4 div.sk-serial {display: flex;flex-direction: column;align-items: center;background-color: white;padding-right: 0.2em;padding-left: 0.2em;position: relative;}#sk-container-id-4 div.sk-item {position: relative;z-index: 1;}#sk-container-id-4 div.sk-parallel {display: flex;align-items: stretch;justify-content: center;background-color: white;position: relative;}#sk-container-id-4 div.sk-item::before, #sk-container-id-4 div.sk-parallel-item::before {content: \"\";position: absolute;border-left: 1px solid gray;box-sizing: border-box;top: 0;bottom: 0;left: 50%;z-index: -1;}#sk-container-id-4 div.sk-parallel-item {display: flex;flex-direction: column;z-index: 1;position: relative;background-color: white;}#sk-container-id-4 div.sk-parallel-item:first-child::after {align-self: flex-end;width: 50%;}#sk-container-id-4 div.sk-parallel-item:last-child::after {align-self: flex-start;width: 50%;}#sk-container-id-4 div.sk-parallel-item:only-child::after {width: 0;}#sk-container-id-4 div.sk-dashed-wrapped {border: 1px dashed gray;margin: 0 0.4em 0.5em 0.4em;box-sizing: border-box;padding-bottom: 0.4em;background-color: white;}#sk-container-id-4 div.sk-label label {font-family: monospace;font-weight: bold;display: inline-block;line-height: 1.2em;}#sk-container-id-4 div.sk-label-container {text-align: center;}#sk-container-id-4 div.sk-container {/* jupyter's `normalize.less` sets `[hidden] { display: none; }` but bootstrap.min.css set `[hidden] { display: none !important; }` so we also need the `!important` here to be able to override the default hidden behavior on the sphinx rendered scikit-learn.org. See: https://github.com/scikit-learn/scikit-learn/issues/21755 */display: inline-block !important;position: relative;}#sk-container-id-4 div.sk-text-repr-fallback {display: none;}</style><div id=\"sk-container-id-4\" class=\"sk-top-container\"><div class=\"sk-text-repr-fallback\"><pre>[div(ts_std_40(ts_correlation_40(close, close)), volume),\n",
       " div(ts_std_40(ts_correlation_40(close, close)), volume),\n",
       " div(ts_std_40(ts_correlation_40(close, close)), volume),\n",
       " div(ts_std_40(ts_correlation_40(close, close)), volume),\n",
       " div(ts_std_40(ts_correlation_40(close, close)), volume),\n",
       " div(ts_std_40(ts_correlation_40(close, close)), volume),\n",
       " div(ts_std_40(ts_correlation_40(close, close)), volume),\n",
       " div(div(ts_std_40(ts_correlation_40(close, close)), volume), volume),\n",
       " ts_std_5(vwap),\n",
       " ts_std_5(vwap)]</pre><b>In a Jupyter environment, please rerun this cell to show the HTML representation or trust the notebook. <br />On GitHub, the HTML representation is unable to render, please try loading this page with nbviewer.org.</b></div><div class=\"sk-container\" hidden><div class=\"sk-item\"><div class=\"sk-estimator sk-toggleable\"><input class=\"sk-toggleable__control sk-hidden--visually\" id=\"sk-estimator-id-4\" type=\"checkbox\" checked><label for=\"sk-estimator-id-4\" class=\"sk-toggleable__label sk-toggleable__label-arrow\">SymbolicTransformer</label><div class=\"sk-toggleable__content\"><pre>[div(ts_std_40(ts_correlation_40(close, close)), volume),\n",
       " div(ts_std_40(ts_correlation_40(close, close)), volume),\n",
       " div(ts_std_40(ts_correlation_40(close, close)), volume),\n",
       " div(ts_std_40(ts_correlation_40(close, close)), volume),\n",
       " div(ts_std_40(ts_correlation_40(close, close)), volume),\n",
       " div(ts_std_40(ts_correlation_40(close, close)), volume),\n",
       " div(ts_std_40(ts_correlation_40(close, close)), volume),\n",
       " div(div(ts_std_40(ts_correlation_40(close, close)), volume), volume),\n",
       " ts_std_5(vwap),\n",
       " ts_std_5(vwap)]</pre></div></div></div></div></div>"
      ],
      "text/plain": [
       "SymbolicTransformer(const_range=None,\n",
       "                    feature_names=['open', 'close', 'high', 'low', 'vwap',\n",
       "                                   'volume'],\n",
       "                    function_set=['add', 'sub', 'mul', 'div', 'sqrt', 'log',\n",
       "                                  'abs', 'inv', 'max', 'min', 'ts_std_5',\n",
       "                                  'ts_mean_5', 'ts_max_5', 'ts_min_5',\n",
       "                                  'ts_correlation_5', 'ts_argmin_5',\n",
       "                                  'ts_argmax_5', 'ts_rank_5', 'ts_std_10',\n",
       "                                  'ts_mean_10', 'ts_max_10', 'ts_min_10',\n",
       "                                  'ts_correlation_10', 'ts_argmin_10',\n",
       "                                  'ts_argmax_10', 'ts_rank_10', 'ts_std_20',\n",
       "                                  'ts_mean_20', 'ts_max_20', 'ts_min_20', ...],\n",
       "                    generations=2, hall_of_fame=10, init_depth=(1, 4),\n",
       "                    max_samples=0.8, metric='rank_ic', n_jobs=-3,\n",
       "                    p_crossover=0.4, p_hoist_mutation=0.001,\n",
       "                    p_point_replace=0.4, parsimony_coefficient='auto',\n",
       "                    population_size=20, random_state=0, verbose=1)"
      ]
     },
     "execution_count": 23,
     "metadata": {},
     "output_type": "execute_result"
    }
   ],
   "source": [
    "gp_sample.fit_3D(X, Y,sample_weight=sample_weight,baseline=0.02,need_parallel=True)"
   ]
  },
  {
   "cell_type": "code",
   "execution_count": 24,
   "metadata": {
    "tags": []
   },
   "outputs": [
    {
     "data": {
      "text/html": [
       "<div>\n",
       "<style scoped>\n",
       "    .dataframe tbody tr th:only-of-type {\n",
       "        vertical-align: middle;\n",
       "    }\n",
       "\n",
       "    .dataframe tbody tr th {\n",
       "        vertical-align: top;\n",
       "    }\n",
       "\n",
       "    .dataframe thead th {\n",
       "        text-align: right;\n",
       "    }\n",
       "</style>\n",
       "<table border=\"1\" class=\"dataframe\">\n",
       "  <thead>\n",
       "    <tr style=\"text-align: right;\">\n",
       "      <th></th>\n",
       "      <th>Expression</th>\n",
       "      <th>Fitness</th>\n",
       "      <th>OOB Fitness</th>\n",
       "    </tr>\n",
       "  </thead>\n",
       "  <tbody>\n",
       "    <tr>\n",
       "      <th>2</th>\n",
       "      <td>div(ts_std_40(ts_correlation_40(close, close))...</td>\n",
       "      <td>0.033872</td>\n",
       "      <td>0.040178</td>\n",
       "    </tr>\n",
       "    <tr>\n",
       "      <th>3</th>\n",
       "      <td>div(div(ts_std_40(ts_correlation_40(close, clo...</td>\n",
       "      <td>0.033676</td>\n",
       "      <td>0.043974</td>\n",
       "    </tr>\n",
       "    <tr>\n",
       "      <th>1</th>\n",
       "      <td>ts_std_5(vwap)</td>\n",
       "      <td>0.025999</td>\n",
       "      <td>0.030634</td>\n",
       "    </tr>\n",
       "    <tr>\n",
       "      <th>0</th>\n",
       "      <td>add(ts_min_60(vwap), ts_max_40(volume))</td>\n",
       "      <td>0.025963</td>\n",
       "      <td>0.029541</td>\n",
       "    </tr>\n",
       "  </tbody>\n",
       "</table>\n",
       "</div>"
      ],
      "text/plain": [
       "                                          Expression   Fitness  OOB Fitness\n",
       "2  div(ts_std_40(ts_correlation_40(close, close))...  0.033872     0.040178\n",
       "3  div(div(ts_std_40(ts_correlation_40(close, clo...  0.033676     0.043974\n",
       "1                                     ts_std_5(vwap)  0.025999     0.030634\n",
       "0            add(ts_min_60(vwap), ts_max_40(volume))  0.025963     0.029541"
      ]
     },
     "execution_count": 24,
     "metadata": {},
     "output_type": "execute_result"
    }
   ],
   "source": [
    "best_result = gp_sample.show_program_simple(baseline=True)\n",
    "res = pd.DataFrame(best_result).drop_duplicates(subset=\"Expression\").sort_values(by='Fitness',ascending = False)\n",
    "res.to_csv(\"./Demo_Result.csv\",index=True,index_label='idx')\n",
    "res"
   ]
  },
  {
   "cell_type": "code",
   "execution_count": 25,
   "metadata": {},
   "outputs": [],
   "source": [
    "# best_result = gp_sample.show_program(X, Y,sample_weight=sample_weight,baseline=True)\n",
    "# res = pd.DataFrame(best_result).drop_duplicates(subset=\"表达式\").sort_values(by='训练集RankIC',ascending = False)\n",
    "# res.to_csv(\"./GP_demo2.csv\",index=False)\n",
    "# res"
   ]
  },
  {
   "attachments": {},
   "cell_type": "markdown",
   "metadata": {},
   "source": [
    "## Visualize Result"
   ]
  },
  {
   "cell_type": "code",
   "execution_count": 26,
   "metadata": {},
   "outputs": [
    {
     "data": {
      "text/plain": [
       "'div(ts_std_40(ts_correlation_40(close, close)), volume)'"
      ]
     },
     "execution_count": 26,
     "metadata": {},
     "output_type": "execute_result"
    }
   ],
   "source": [
    "target_fac = gp_sample._total_program[2]\n",
    "target_fac.__str__()"
   ]
  },
  {
   "cell_type": "code",
   "execution_count": 27,
   "metadata": {},
   "outputs": [
    {
     "name": "stdout",
     "output_type": "stream",
     "text": [
      "digraph program {\n",
      "node [style=filled]\n",
      "0 [label=\"div\", fillcolor=\"#136ed4\"] ;\n",
      "1 [label=\"ts_std_40\", fillcolor=\"#136ed4\"] ;\n",
      "2 [label=\"ts_correlation_40\", fillcolor=\"#136ed4\"] ;\n",
      "3 [label=\"close\", fillcolor=\"#60a6f6\"] ;\n",
      "4 [label=\"close\", fillcolor=\"#60a6f6\"] ;\n",
      "2 -> 4 ;\n",
      "2 -> 3 ;\n",
      "1 -> 2 ;\n",
      "5 [label=\"volume\", fillcolor=\"#60a6f6\"] ;\n",
      "0 -> 5 ;\n",
      "0 -> 1 ;\n",
      "}\n"
     ]
    }
   ],
   "source": [
    "print(target_fac.export_graphviz())"
   ]
  }
 ],
 "metadata": {
  "kernelspec": {
   "display_name": "Python 3 (ipykernel)",
   "language": "python",
   "name": "python3"
  },
  "language_info": {
   "codemirror_mode": {
    "name": "ipython",
    "version": 3
   },
   "file_extension": ".py",
   "mimetype": "text/x-python",
   "name": "python",
   "nbconvert_exporter": "python",
   "pygments_lexer": "ipython3",
   "version": "3.11.5"
  }
 },
 "nbformat": 4,
 "nbformat_minor": 4
}
